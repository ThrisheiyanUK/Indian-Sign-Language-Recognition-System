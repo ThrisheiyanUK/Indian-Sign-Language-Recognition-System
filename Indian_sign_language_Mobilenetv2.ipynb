{
 "cells": [
  {
   "cell_type": "markdown",
   "metadata": {},
   "source": [
    "# Improved Indian Sign Language Recognition\n",
    "## Addressing Overfitting Issues\n",
    "\n",
    "This notebook addresses the overfitting problems in the original model by:\n",
    "1. Adding proper train/validation/test splits\n",
    "2. Implementing regularization techniques\n",
    "3. Using callbacks for early stopping\n",
    "4. Fine-tuning instead of freezing all layers\n",
    "5. **Updated to use 224x224 input images for better performance**"
   ]
  },
  {
   "cell_type": "code",
   "execution_count": 1,
   "metadata": {},
   "outputs": [],
   "source": [
    "import os\n",
    "import numpy as np\n",
    "import pandas as pd\n",
    "import matplotlib.pyplot as plt\n",
    "import cv2\n",
    "from sklearn.model_selection import train_test_split\n",
    "from sklearn.preprocessing import LabelBinarizer\n",
    "from sklearn.metrics import classification_report, confusion_matrix\n",
    "import tensorflow as tf\n",
    "from tensorflow.keras.preprocessing.image import ImageDataGenerator\n",
    "from tensorflow.keras.utils import img_to_array\n",
    "from tensorflow.keras.models import Sequential\n",
    "from tensorflow.keras.layers import (Dense, Dropout, GlobalAveragePooling2D, \n",
    "                                   BatchNormalization)\n",
    "from tensorflow.keras.optimizers import Adam\n",
    "from tensorflow.keras.applications import MobileNetV2\n",
    "from tensorflow.keras.callbacks import EarlyStopping, ReduceLROnPlateau\n",
    "from tensorflow.keras.regularizers import l2"
   ]
  },
  {
   "cell_type": "markdown",
   "metadata": {},
   "source": [
    "## Data Loading and Preprocessing"
   ]
  },
  {
   "cell_type": "code",
   "execution_count": 2,
   "metadata": {},
   "outputs": [
    {
     "name": "stdout",
     "output_type": "stream",
     "text": [
      "Categories: ['1', '2', '3', '4', '5', '6', '7', '8', '9', 'A', 'B', 'C', 'D', 'E', 'F', 'G', 'H', 'I', 'J', 'K', 'L', 'M', 'N', 'O', 'P', 'Q', 'R', 'S', 'T', 'U', 'V', 'W', 'X', 'Y', 'Z']\n",
      "Number of classes: 35\n"
     ]
    }
   ],
   "source": [
    "DATA_PATH = \"Indian\"\n",
    "\n",
    "def load_images_and_labels(data_path, categories, img_size=(224, 224)):\n",
    "    images = []\n",
    "    labels = []\n",
    "    for category in categories:\n",
    "        category_path = os.path.join(data_path, category)\n",
    "        for img_name in os.listdir(category_path):\n",
    "            img_path = os.path.join(category_path, img_name)\n",
    "            img = cv2.imread(img_path)\n",
    "            img = cv2.cvtColor(img, cv2.COLOR_BGR2RGB)\n",
    "            img = cv2.resize(img, img_size)\n",
    "            img_array = img_to_array(img)\n",
    "            images.append(img_array)\n",
    "            labels.append(category)\n",
    "    return np.array(images), np.array(labels)\n",
    "\n",
    "# Get categories\n",
    "categories = sorted(os.listdir(DATA_PATH))\n",
    "print(f\"Categories: {categories}\")\n",
    "print(f\"Number of classes: {len(categories)}\")"
   ]
  },
  {
   "cell_type": "code",
   "execution_count": 3,
   "metadata": {},
   "outputs": [
    {
     "name": "stdout",
     "output_type": "stream",
     "text": [
      "Total images: 42745\n",
      "Image shape: (224, 224, 3)\n"
     ]
    }
   ],
   "source": [
    "# Load images and labels\n",
    "images, labels = load_images_and_labels(DATA_PATH, categories)\n",
    "print(f\"Total images: {len(images)}\")\n",
    "print(f\"Image shape: {images[0].shape}\")"
   ]
  },
  {
   "cell_type": "markdown",
   "metadata": {},
   "source": [
    "## Improved Data Splitting Strategy\n",
    "\n",
    "**Key improvements:**\n",
    "1. **Three-way split**: Train/Validation/Test (64%/16%/20%)\n",
    "2. **Stratified sampling**: Ensures balanced class distribution\n",
    "3. **Separate validation set**: Prevents data leakage"
   ]
  },
  {
   "cell_type": "code",
   "execution_count": 4,
   "metadata": {},
   "outputs": [
    {
     "name": "stdout",
     "output_type": "stream",
     "text": [
      "Training samples: 27356 (64.0%)\n",
      "Validation samples: 6840 (16.0%)\n",
      "Test samples: 8549 (20.0%)\n"
     ]
    }
   ],
   "source": [
    "# Encode labels\n",
    "label_binarizer = LabelBinarizer()\n",
    "labels_encoded = label_binarizer.fit_transform(labels)\n",
    "\n",
    "# First split: separate test set\n",
    "X_train, X_test, y_train, y_test = train_test_split(\n",
    "    images, labels_encoded, \n",
    "    test_size=0.2, \n",
    "    random_state=42,\n",
    "    stratify=labels_encoded.argmax(axis=1)\n",
    ")\n",
    "\n",
    "# Second split: create validation set from training data\n",
    "X_train, X_val, y_train, y_val = train_test_split(\n",
    "    X_train, y_train, \n",
    "    test_size=0.2, \n",
    "    random_state=42,\n",
    "    stratify=y_train.argmax(axis=1)\n",
    ")\n",
    "\n",
    "print(f\"Training samples: {len(X_train)} ({len(X_train)/len(images)*100:.1f}%)\")\n",
    "print(f\"Validation samples: {len(X_val)} ({len(X_val)/len(images)*100:.1f}%)\")\n",
    "print(f\"Test samples: {len(X_test)} ({len(X_test)/len(images)*100:.1f}%)\")"
   ]
  },
  {
   "cell_type": "code",
   "execution_count": 5,
   "metadata": {},
   "outputs": [
    {
     "name": "stdout",
     "output_type": "stream",
     "text": [
      "Data normalized to [0, 1] range\n"
     ]
    }
   ],
   "source": [
    "# Normalize pixel values\n",
    "X_train = X_train / 255.0\n",
    "X_val = X_val / 255.0\n",
    "X_test = X_test / 255.0\n",
    "\n",
    "print(\"Data normalized to [0, 1] range\")"
   ]
  },
  {
   "cell_type": "markdown",
   "metadata": {},
   "source": [
    "## Reduced Data Augmentation\n",
    "\n",
    "**Changes from original:**\n",
    "- Reduced rotation: 20° → 15°\n",
    "- Reduced zoom: 0.15 → 0.1\n",
    "- Reduced shifts: 0.2 → 0.1\n",
    "- **Disabled horizontal flip** (signs shouldn't be mirrored)\n",
    "- Reduced shear: 0.15 → 0.1"
   ]
  },
  {
   "cell_type": "code",
   "execution_count": 6,
   "metadata": {},
   "outputs": [
    {
     "name": "stdout",
     "output_type": "stream",
     "text": [
      "Data augmentation configured with reduced parameters\n"
     ]
    }
   ],
   "source": [
    "# More conservative data augmentation\n",
    "datagen = ImageDataGenerator(\n",
    "    rotation_range=15,      # Reduced from 20\n",
    "    zoom_range=0.1,         # Reduced from 0.15\n",
    "    width_shift_range=0.1,  # Reduced from 0.2\n",
    "    height_shift_range=0.1, # Reduced from 0.2\n",
    "    shear_range=0.1,        # Reduced from 0.15\n",
    "    horizontal_flip=False,  # Disabled - signs shouldn't be flipped\n",
    "    fill_mode=\"nearest\"\n",
    ")\n",
    "datagen.fit(X_train)\n",
    "print(\"Data augmentation configured with reduced parameters\")"
   ]
  },
  {
   "cell_type": "markdown",
   "metadata": {},
   "source": [
    "## Improved Model Architecture\n",
    "\n",
    "**Overfitting prevention techniques:**\n",
    "1. **Fine-tuning**: Unfreeze top layers of MobileNetV2\n",
    "2. **Dropout**: 0.3 and 0.5 dropout layers\n",
    "3. **L2 Regularization**: Added to dense layer\n",
    "4. **Batch Normalization**: Stabilizes training\n",
    "5. **Lower Learning Rate**: 0.0001 for fine-tuning\n",
    "6. **224x224 Input**: Optimal size for MobileNetV2"
   ]
  },
  {
   "cell_type": "code",
   "execution_count": 7,
   "metadata": {},
   "outputs": [
    {
     "name": "stdout",
     "output_type": "stream",
     "text": [
      "Total layers: 154\n",
      "Trainable layers: 54\n"
     ]
    },
    {
     "data": {
      "text/html": [
       "<pre style=\"white-space:pre;overflow-x:auto;line-height:normal;font-family:Menlo,'DejaVu Sans Mono',consolas,'Courier New',monospace\"><span style=\"font-weight: bold\">Model: \"sequential\"</span>\n",
       "</pre>\n"
      ],
      "text/plain": [
       "\u001b[1mModel: \"sequential\"\u001b[0m\n"
      ]
     },
     "metadata": {},
     "output_type": "display_data"
    },
    {
     "data": {
      "text/html": [
       "<pre style=\"white-space:pre;overflow-x:auto;line-height:normal;font-family:Menlo,'DejaVu Sans Mono',consolas,'Courier New',monospace\">┏━━━━━━━━━━━━━━━━━━━━━━━━━━━━━━━━━┳━━━━━━━━━━━━━━━━━━━━━━━━┳━━━━━━━━━━━━━━━┓\n",
       "┃<span style=\"font-weight: bold\"> Layer (type)                    </span>┃<span style=\"font-weight: bold\"> Output Shape           </span>┃<span style=\"font-weight: bold\">       Param # </span>┃\n",
       "┡━━━━━━━━━━━━━━━━━━━━━━━━━━━━━━━━━╇━━━━━━━━━━━━━━━━━━━━━━━━╇━━━━━━━━━━━━━━━┩\n",
       "│ mobilenetv2_1.00_224            │ (<span style=\"color: #00d7ff; text-decoration-color: #00d7ff\">None</span>, <span style=\"color: #00af00; text-decoration-color: #00af00\">7</span>, <span style=\"color: #00af00; text-decoration-color: #00af00\">7</span>, <span style=\"color: #00af00; text-decoration-color: #00af00\">1280</span>)     │     <span style=\"color: #00af00; text-decoration-color: #00af00\">2,257,984</span> │\n",
       "│ (<span style=\"color: #0087ff; text-decoration-color: #0087ff\">Functional</span>)                    │                        │               │\n",
       "├─────────────────────────────────┼────────────────────────┼───────────────┤\n",
       "│ global_average_pooling2d        │ (<span style=\"color: #00d7ff; text-decoration-color: #00d7ff\">None</span>, <span style=\"color: #00af00; text-decoration-color: #00af00\">1280</span>)           │             <span style=\"color: #00af00; text-decoration-color: #00af00\">0</span> │\n",
       "│ (<span style=\"color: #0087ff; text-decoration-color: #0087ff\">GlobalAveragePooling2D</span>)        │                        │               │\n",
       "├─────────────────────────────────┼────────────────────────┼───────────────┤\n",
       "│ dropout (<span style=\"color: #0087ff; text-decoration-color: #0087ff\">Dropout</span>)               │ (<span style=\"color: #00d7ff; text-decoration-color: #00d7ff\">None</span>, <span style=\"color: #00af00; text-decoration-color: #00af00\">1280</span>)           │             <span style=\"color: #00af00; text-decoration-color: #00af00\">0</span> │\n",
       "├─────────────────────────────────┼────────────────────────┼───────────────┤\n",
       "│ dense (<span style=\"color: #0087ff; text-decoration-color: #0087ff\">Dense</span>)                   │ (<span style=\"color: #00d7ff; text-decoration-color: #00d7ff\">None</span>, <span style=\"color: #00af00; text-decoration-color: #00af00\">128</span>)            │       <span style=\"color: #00af00; text-decoration-color: #00af00\">163,968</span> │\n",
       "├─────────────────────────────────┼────────────────────────┼───────────────┤\n",
       "│ batch_normalization             │ (<span style=\"color: #00d7ff; text-decoration-color: #00d7ff\">None</span>, <span style=\"color: #00af00; text-decoration-color: #00af00\">128</span>)            │           <span style=\"color: #00af00; text-decoration-color: #00af00\">512</span> │\n",
       "│ (<span style=\"color: #0087ff; text-decoration-color: #0087ff\">BatchNormalization</span>)            │                        │               │\n",
       "├─────────────────────────────────┼────────────────────────┼───────────────┤\n",
       "│ dropout_1 (<span style=\"color: #0087ff; text-decoration-color: #0087ff\">Dropout</span>)             │ (<span style=\"color: #00d7ff; text-decoration-color: #00d7ff\">None</span>, <span style=\"color: #00af00; text-decoration-color: #00af00\">128</span>)            │             <span style=\"color: #00af00; text-decoration-color: #00af00\">0</span> │\n",
       "├─────────────────────────────────┼────────────────────────┼───────────────┤\n",
       "│ dense_1 (<span style=\"color: #0087ff; text-decoration-color: #0087ff\">Dense</span>)                 │ (<span style=\"color: #00d7ff; text-decoration-color: #00d7ff\">None</span>, <span style=\"color: #00af00; text-decoration-color: #00af00\">35</span>)             │         <span style=\"color: #00af00; text-decoration-color: #00af00\">4,515</span> │\n",
       "└─────────────────────────────────┴────────────────────────┴───────────────┘\n",
       "</pre>\n"
      ],
      "text/plain": [
       "┏━━━━━━━━━━━━━━━━━━━━━━━━━━━━━━━━━┳━━━━━━━━━━━━━━━━━━━━━━━━┳━━━━━━━━━━━━━━━┓\n",
       "┃\u001b[1m \u001b[0m\u001b[1mLayer (type)                   \u001b[0m\u001b[1m \u001b[0m┃\u001b[1m \u001b[0m\u001b[1mOutput Shape          \u001b[0m\u001b[1m \u001b[0m┃\u001b[1m \u001b[0m\u001b[1m      Param #\u001b[0m\u001b[1m \u001b[0m┃\n",
       "┡━━━━━━━━━━━━━━━━━━━━━━━━━━━━━━━━━╇━━━━━━━━━━━━━━━━━━━━━━━━╇━━━━━━━━━━━━━━━┩\n",
       "│ mobilenetv2_1.00_224            │ (\u001b[38;5;45mNone\u001b[0m, \u001b[38;5;34m7\u001b[0m, \u001b[38;5;34m7\u001b[0m, \u001b[38;5;34m1280\u001b[0m)     │     \u001b[38;5;34m2,257,984\u001b[0m │\n",
       "│ (\u001b[38;5;33mFunctional\u001b[0m)                    │                        │               │\n",
       "├─────────────────────────────────┼────────────────────────┼───────────────┤\n",
       "│ global_average_pooling2d        │ (\u001b[38;5;45mNone\u001b[0m, \u001b[38;5;34m1280\u001b[0m)           │             \u001b[38;5;34m0\u001b[0m │\n",
       "│ (\u001b[38;5;33mGlobalAveragePooling2D\u001b[0m)        │                        │               │\n",
       "├─────────────────────────────────┼────────────────────────┼───────────────┤\n",
       "│ dropout (\u001b[38;5;33mDropout\u001b[0m)               │ (\u001b[38;5;45mNone\u001b[0m, \u001b[38;5;34m1280\u001b[0m)           │             \u001b[38;5;34m0\u001b[0m │\n",
       "├─────────────────────────────────┼────────────────────────┼───────────────┤\n",
       "│ dense (\u001b[38;5;33mDense\u001b[0m)                   │ (\u001b[38;5;45mNone\u001b[0m, \u001b[38;5;34m128\u001b[0m)            │       \u001b[38;5;34m163,968\u001b[0m │\n",
       "├─────────────────────────────────┼────────────────────────┼───────────────┤\n",
       "│ batch_normalization             │ (\u001b[38;5;45mNone\u001b[0m, \u001b[38;5;34m128\u001b[0m)            │           \u001b[38;5;34m512\u001b[0m │\n",
       "│ (\u001b[38;5;33mBatchNormalization\u001b[0m)            │                        │               │\n",
       "├─────────────────────────────────┼────────────────────────┼───────────────┤\n",
       "│ dropout_1 (\u001b[38;5;33mDropout\u001b[0m)             │ (\u001b[38;5;45mNone\u001b[0m, \u001b[38;5;34m128\u001b[0m)            │             \u001b[38;5;34m0\u001b[0m │\n",
       "├─────────────────────────────────┼────────────────────────┼───────────────┤\n",
       "│ dense_1 (\u001b[38;5;33mDense\u001b[0m)                 │ (\u001b[38;5;45mNone\u001b[0m, \u001b[38;5;34m35\u001b[0m)             │         \u001b[38;5;34m4,515\u001b[0m │\n",
       "└─────────────────────────────────┴────────────────────────┴───────────────┘\n"
      ]
     },
     "metadata": {},
     "output_type": "display_data"
    },
    {
     "data": {
      "text/html": [
       "<pre style=\"white-space:pre;overflow-x:auto;line-height:normal;font-family:Menlo,'DejaVu Sans Mono',consolas,'Courier New',monospace\"><span style=\"font-weight: bold\"> Total params: </span><span style=\"color: #00af00; text-decoration-color: #00af00\">2,426,979</span> (9.26 MB)\n",
       "</pre>\n"
      ],
      "text/plain": [
       "\u001b[1m Total params: \u001b[0m\u001b[38;5;34m2,426,979\u001b[0m (9.26 MB)\n"
      ]
     },
     "metadata": {},
     "output_type": "display_data"
    },
    {
     "data": {
      "text/html": [
       "<pre style=\"white-space:pre;overflow-x:auto;line-height:normal;font-family:Menlo,'DejaVu Sans Mono',consolas,'Courier New',monospace\"><span style=\"font-weight: bold\"> Trainable params: </span><span style=\"color: #00af00; text-decoration-color: #00af00\">2,030,179</span> (7.74 MB)\n",
       "</pre>\n"
      ],
      "text/plain": [
       "\u001b[1m Trainable params: \u001b[0m\u001b[38;5;34m2,030,179\u001b[0m (7.74 MB)\n"
      ]
     },
     "metadata": {},
     "output_type": "display_data"
    },
    {
     "data": {
      "text/html": [
       "<pre style=\"white-space:pre;overflow-x:auto;line-height:normal;font-family:Menlo,'DejaVu Sans Mono',consolas,'Courier New',monospace\"><span style=\"font-weight: bold\"> Non-trainable params: </span><span style=\"color: #00af00; text-decoration-color: #00af00\">396,800</span> (1.51 MB)\n",
       "</pre>\n"
      ],
      "text/plain": [
       "\u001b[1m Non-trainable params: \u001b[0m\u001b[38;5;34m396,800\u001b[0m (1.51 MB)\n"
      ]
     },
     "metadata": {},
     "output_type": "display_data"
    }
   ],
   "source": [
    "def create_improved_model(num_classes):\n",
    "    # Load pre-trained MobileNetV2 with 224x224 input\n",
    "    base_model = MobileNetV2(\n",
    "        weights='imagenet',\n",
    "        include_top=False,\n",
    "        input_shape=(224, 224, 3)\n",
    "    )\n",
    "    \n",
    "    # Fine-tuning: Unfreeze top layers\n",
    "    base_model.trainable = True\n",
    "    \n",
    "    # Freeze bottom layers, fine-tune top layers\n",
    "    fine_tune_at = 100  # Unfreeze from layer 100 onwards\n",
    "    for layer in base_model.layers[:fine_tune_at]:\n",
    "        layer.trainable = False\n",
    "    \n",
    "    print(f\"Total layers: {len(base_model.layers)}\")\n",
    "    print(f\"Trainable layers: {len(base_model.layers) - fine_tune_at}\")\n",
    "    \n",
    "    # Build model with regularization\n",
    "    model = Sequential([\n",
    "        base_model,\n",
    "        GlobalAveragePooling2D(),\n",
    "        \n",
    "        # Regularization layers\n",
    "        Dropout(0.3),\n",
    "        Dense(128, \n",
    "              activation='relu', \n",
    "              kernel_regularizer=l2(0.001)),\n",
    "        BatchNormalization(),\n",
    "        Dropout(0.5),\n",
    "        \n",
    "        Dense(num_classes, activation='softmax')\n",
    "    ])\n",
    "    \n",
    "    return model\n",
    "\n",
    "# Create model\n",
    "model = create_improved_model(len(categories))\n",
    "\n",
    "# Show model summary\n",
    "model.summary()"
   ]
  },
  {
   "cell_type": "code",
   "execution_count": 8,
   "metadata": {},
   "outputs": [
    {
     "name": "stdout",
     "output_type": "stream",
     "text": [
      "Model compiled with Adam optimizer (LR=0.0001)\n"
     ]
    }
   ],
   "source": [
    "# Compile with lower learning rate for fine-tuning\n",
    "model.compile(\n",
    "    optimizer=Adam(learning_rate=0.0001),  # Lower LR\n",
    "    loss='categorical_crossentropy',\n",
    "    metrics=['accuracy']\n",
    ")\n",
    "\n",
    "print(\"Model compiled with Adam optimizer (LR=0.0001)\")"
   ]
  },
  {
   "cell_type": "markdown",
   "metadata": {},
   "source": [
    "## Advanced Callbacks\n",
    "\n",
    "1. **EarlyStopping**: Stops training when validation loss stops improving\n",
    "2. **ReduceLROnPlateau**: Reduces learning rate when stuck in plateau"
   ]
  },
  {
   "cell_type": "code",
   "execution_count": 9,
   "metadata": {},
   "outputs": [
    {
     "name": "stdout",
     "output_type": "stream",
     "text": [
      "Callbacks configured:\n",
      "- Early stopping (patience=5)\n",
      "- Learning rate reduction (patience=3)\n"
     ]
    }
   ],
   "source": [
    "callbacks = [\n",
    "    EarlyStopping(\n",
    "        monitor='val_loss',\n",
    "        patience=5,\n",
    "        restore_best_weights=True,\n",
    "        verbose=1\n",
    "    ),\n",
    "    ReduceLROnPlateau(\n",
    "        monitor='val_loss',\n",
    "        factor=0.5,\n",
    "        patience=3,\n",
    "        min_lr=1e-7,\n",
    "        verbose=1\n",
    "    )\n",
    "]\n",
    "\n",
    "print(\"Callbacks configured:\")\n",
    "print(\"- Early stopping (patience=5)\")\n",
    "print(\"- Learning rate reduction (patience=3)\")"
   ]
  },
  {
   "cell_type": "markdown",
   "metadata": {},
   "source": [
    "## Training"
   ]
  },
  {
   "cell_type": "code",
   "execution_count": 10,
   "metadata": {},
   "outputs": [
    {
     "name": "stdout",
     "output_type": "stream",
     "text": [
      "Starting training with improved configuration...\n"
     ]
    },
    {
     "name": "stderr",
     "output_type": "stream",
     "text": [
      "C:\\Users\\ilakiya\\AppData\\Local\\Packages\\PythonSoftwareFoundation.Python.3.12_qbz5n2kfra8p0\\LocalCache\\local-packages\\Python312\\site-packages\\keras\\src\\trainers\\data_adapters\\py_dataset_adapter.py:121: UserWarning: Your `PyDataset` class should call `super().__init__(**kwargs)` in its constructor. `**kwargs` can include `workers`, `use_multiprocessing`, `max_queue_size`. Do not pass these arguments to `fit()`, as they will be ignored.\n",
      "  self._warn_if_super_not_called()\n"
     ]
    },
    {
     "name": "stdout",
     "output_type": "stream",
     "text": [
      "Epoch 1/20\n",
      "\u001b[1m855/855\u001b[0m \u001b[32m━━━━━━━━━━━━━━━━━━━━\u001b[0m\u001b[37m\u001b[0m \u001b[1m881s\u001b[0m 1s/step - accuracy: 0.8218 - loss: 1.0323 - val_accuracy: 0.9984 - val_loss: 0.2321 - learning_rate: 1.0000e-04\n",
      "Epoch 2/20\n",
      "\u001b[1m855/855\u001b[0m \u001b[32m━━━━━━━━━━━━━━━━━━━━\u001b[0m\u001b[37m\u001b[0m \u001b[1m856s\u001b[0m 1s/step - accuracy: 1.0000 - loss: 0.2336 - val_accuracy: 1.0000 - val_loss: 0.2037 - learning_rate: 1.0000e-04\n",
      "Epoch 3/20\n",
      "\u001b[1m855/855\u001b[0m \u001b[32m━━━━━━━━━━━━━━━━━━━━\u001b[0m\u001b[37m\u001b[0m \u001b[1m829s\u001b[0m 969ms/step - accuracy: 0.9999 - loss: 0.2032 - val_accuracy: 1.0000 - val_loss: 0.1749 - learning_rate: 1.0000e-04\n",
      "Epoch 4/20\n",
      "\u001b[1m855/855\u001b[0m \u001b[32m━━━━━━━━━━━━━━━━━━━━\u001b[0m\u001b[37m\u001b[0m \u001b[1m824s\u001b[0m 964ms/step - accuracy: 1.0000 - loss: 0.1694 - val_accuracy: 1.0000 - val_loss: 0.1379 - learning_rate: 1.0000e-04\n",
      "Epoch 5/20\n",
      "\u001b[1m855/855\u001b[0m \u001b[32m━━━━━━━━━━━━━━━━━━━━\u001b[0m\u001b[37m\u001b[0m \u001b[1m823s\u001b[0m 962ms/step - accuracy: 1.0000 - loss: 0.1296 - val_accuracy: 1.0000 - val_loss: 0.0961 - learning_rate: 1.0000e-04\n",
      "Epoch 6/20\n",
      "\u001b[1m855/855\u001b[0m \u001b[32m━━━━━━━━━━━━━━━━━━━━\u001b[0m\u001b[37m\u001b[0m \u001b[1m822s\u001b[0m 961ms/step - accuracy: 1.0000 - loss: 0.0872 - val_accuracy: 1.0000 - val_loss: 0.0563 - learning_rate: 1.0000e-04\n",
      "Epoch 7/20\n",
      "\u001b[1m855/855\u001b[0m \u001b[32m━━━━━━━━━━━━━━━━━━━━\u001b[0m\u001b[37m\u001b[0m \u001b[1m832s\u001b[0m 973ms/step - accuracy: 1.0000 - loss: 0.0487 - val_accuracy: 1.0000 - val_loss: 0.0259 - learning_rate: 1.0000e-04\n",
      "Epoch 8/20\n",
      "\u001b[1m855/855\u001b[0m \u001b[32m━━━━━━━━━━━━━━━━━━━━\u001b[0m\u001b[37m\u001b[0m \u001b[1m840s\u001b[0m 983ms/step - accuracy: 1.0000 - loss: 0.0213 - val_accuracy: 1.0000 - val_loss: 0.0089 - learning_rate: 1.0000e-04\n",
      "Epoch 9/20\n",
      "\u001b[1m855/855\u001b[0m \u001b[32m━━━━━━━━━━━━━━━━━━━━\u001b[0m\u001b[37m\u001b[0m \u001b[1m820s\u001b[0m 959ms/step - accuracy: 1.0000 - loss: 0.0071 - val_accuracy: 1.0000 - val_loss: 0.0112 - learning_rate: 1.0000e-04\n",
      "Epoch 10/20\n",
      "\u001b[1m855/855\u001b[0m \u001b[32m━━━━━━━━━━━━━━━━━━━━\u001b[0m\u001b[37m\u001b[0m \u001b[1m822s\u001b[0m 962ms/step - accuracy: 0.9997 - loss: 0.0088 - val_accuracy: 1.0000 - val_loss: 0.0038 - learning_rate: 1.0000e-04\n",
      "Epoch 11/20\n",
      "\u001b[1m855/855\u001b[0m \u001b[32m━━━━━━━━━━━━━━━━━━━━\u001b[0m\u001b[37m\u001b[0m \u001b[1m839s\u001b[0m 981ms/step - accuracy: 1.0000 - loss: 0.0037 - val_accuracy: 1.0000 - val_loss: 0.0025 - learning_rate: 1.0000e-04\n",
      "Epoch 12/20\n",
      "\u001b[1m855/855\u001b[0m \u001b[32m━━━━━━━━━━━━━━━━━━━━\u001b[0m\u001b[37m\u001b[0m \u001b[1m835s\u001b[0m 976ms/step - accuracy: 1.0000 - loss: 0.0024 - val_accuracy: 1.0000 - val_loss: 0.0014 - learning_rate: 1.0000e-04\n",
      "Epoch 13/20\n",
      "\u001b[1m855/855\u001b[0m \u001b[32m━━━━━━━━━━━━━━━━━━━━\u001b[0m\u001b[37m\u001b[0m \u001b[1m833s\u001b[0m 975ms/step - accuracy: 1.0000 - loss: 0.0014 - val_accuracy: 1.0000 - val_loss: 7.9492e-04 - learning_rate: 1.0000e-04\n",
      "Epoch 14/20\n",
      "\u001b[1m855/855\u001b[0m \u001b[32m━━━━━━━━━━━━━━━━━━━━\u001b[0m\u001b[37m\u001b[0m \u001b[1m833s\u001b[0m 975ms/step - accuracy: 1.0000 - loss: 8.3103e-04 - val_accuracy: 1.0000 - val_loss: 4.9575e-04 - learning_rate: 1.0000e-04\n",
      "Epoch 15/20\n",
      "\u001b[1m855/855\u001b[0m \u001b[32m━━━━━━━━━━━━━━━━━━━━\u001b[0m\u001b[37m\u001b[0m \u001b[1m836s\u001b[0m 977ms/step - accuracy: 0.9984 - loss: 0.0144 - val_accuracy: 1.0000 - val_loss: 0.0033 - learning_rate: 1.0000e-04\n",
      "Epoch 16/20\n",
      "\u001b[1m855/855\u001b[0m \u001b[32m━━━━━━━━━━━━━━━━━━━━\u001b[0m\u001b[37m\u001b[0m \u001b[1m832s\u001b[0m 973ms/step - accuracy: 1.0000 - loss: 0.0034 - val_accuracy: 1.0000 - val_loss: 0.0025 - learning_rate: 1.0000e-04\n",
      "Epoch 17/20\n",
      "\u001b[1m855/855\u001b[0m \u001b[32m━━━━━━━━━━━━━━━━━━━━\u001b[0m\u001b[37m\u001b[0m \u001b[1m0s\u001b[0m 880ms/step - accuracy: 0.9999 - loss: 0.0033\n",
      "Epoch 17: ReduceLROnPlateau reducing learning rate to 4.999999873689376e-05.\n",
      "\u001b[1m855/855\u001b[0m \u001b[32m━━━━━━━━━━━━━━━━━━━━\u001b[0m\u001b[37m\u001b[0m \u001b[1m833s\u001b[0m 974ms/step - accuracy: 0.9999 - loss: 0.0033 - val_accuracy: 1.0000 - val_loss: 0.0029 - learning_rate: 1.0000e-04\n",
      "Epoch 18/20\n",
      "\u001b[1m855/855\u001b[0m \u001b[32m━━━━━━━━━━━━━━━━━━━━\u001b[0m\u001b[37m\u001b[0m \u001b[1m837s\u001b[0m 979ms/step - accuracy: 1.0000 - loss: 0.0031 - val_accuracy: 1.0000 - val_loss: 0.0024 - learning_rate: 5.0000e-05\n",
      "Epoch 19/20\n",
      "\u001b[1m855/855\u001b[0m \u001b[32m━━━━━━━━━━━━━━━━━━━━\u001b[0m\u001b[37m\u001b[0m \u001b[1m834s\u001b[0m 975ms/step - accuracy: 1.0000 - loss: 0.0025 - val_accuracy: 1.0000 - val_loss: 0.0019 - learning_rate: 5.0000e-05\n",
      "Epoch 19: early stopping\n",
      "Restoring model weights from the end of the best epoch: 14.\n"
     ]
    }
   ],
   "source": [
    "# Train model\n",
    "print(\"Starting training with improved configuration...\")\n",
    "history = model.fit(\n",
    "    datagen.flow(X_train, y_train, batch_size=32),\n",
    "    validation_data=(X_val, y_val),\n",
    "    epochs=20,\n",
    "    callbacks=callbacks,\n",
    "    verbose=1\n",
    ")"
   ]
  },
  {
   "cell_type": "markdown",
   "metadata": {},
   "source": [
    "## Evaluation and Analysis"
   ]
  },
  {
   "cell_type": "code",
   "execution_count": 11,
   "metadata": {},
   "outputs": [
    {
     "name": "stdout",
     "output_type": "stream",
     "text": [
      "\n",
      "=== FINAL TEST RESULTS ===\n",
      "Test Accuracy: 1.0000 (100.00%)\n",
      "Test Loss: 0.0005\n",
      "\n",
      "=== OVERFITTING ANALYSIS ===\n",
      "Best Training Accuracy: 1.0000\n",
      "Best Validation Accuracy: 1.0000\n",
      "Final Test Accuracy: 1.0000\n",
      "Train-Val Gap: 0.0000\n",
      "Val-Test Gap: 0.0000\n"
     ]
    }
   ],
   "source": [
    "# Evaluate on test set\n",
    "test_loss, test_accuracy = model.evaluate(X_test, y_test, verbose=0)\n",
    "print(f\"\\n=== FINAL TEST RESULTS ===\")\n",
    "print(f\"Test Accuracy: {test_accuracy:.4f} ({test_accuracy*100:.2f}%)\")\n",
    "print(f\"Test Loss: {test_loss:.4f}\")\n",
    "\n",
    "# Compare with validation results\n",
    "final_val_acc = max(history.history['val_accuracy'])\n",
    "final_train_acc = max(history.history['accuracy'])\n",
    "\n",
    "print(f\"\\n=== OVERFITTING ANALYSIS ===\")\n",
    "print(f\"Best Training Accuracy: {final_train_acc:.4f}\")\n",
    "print(f\"Best Validation Accuracy: {final_val_acc:.4f}\")\n",
    "print(f\"Final Test Accuracy: {test_accuracy:.4f}\")\n",
    "print(f\"Train-Val Gap: {abs(final_train_acc - final_val_acc):.4f}\")\n",
    "print(f\"Val-Test Gap: {abs(final_val_acc - test_accuracy):.4f}\")"
   ]
  },
  {
   "cell_type": "code",
   "execution_count": 12,
   "metadata": {},
   "outputs": [
    {
     "data": {
      "image/png": "[encoded data removed]",
      "text/plain": [
       "<Figure size 1500x500 with 2 Axes>"
      ]
     },
     "metadata": {},
     "output_type": "display_data"
    }
   ],
   "source": [
    "# Plot training history\n",
    "def plot_training_history(history):\n",
    "    fig, (ax1, ax2) = plt.subplots(1, 2, figsize=(15, 5))\n",
    "    \n",
    "    # Plot accuracy\n",
    "    ax1.plot(history.history['accuracy'], label='Training Accuracy', marker='o')\n",
    "    ax1.plot(history.history['val_accuracy'], label='Validation Accuracy', marker='s')\n",
    "    ax1.axhline(y=test_accuracy, color='red', linestyle='--', label=f'Test Accuracy ({test_accuracy:.3f})')\n",
    "    ax1.set_title('Model Accuracy Over Time')\n",
    "    ax1.set_xlabel('Epoch')\n",
    "    ax1.set_ylabel('Accuracy')\n",
    "    ax1.legend()\n",
    "    ax1.grid(True, alpha=0.3)\n",
    "    \n",
    "    # Plot loss\n",
    "    ax2.plot(history.history['loss'], label='Training Loss', marker='o')\n",
    "    ax2.plot(history.history['val_loss'], label='Validation Loss', marker='s')\n",
    "    ax2.axhline(y=test_loss, color='red', linestyle='--', label=f'Test Loss ({test_loss:.3f})')\n",
    "    ax2.set_title('Model Loss Over Time')\n",
    "    ax2.set_xlabel('Epoch')\n",
    "    ax2.set_ylabel('Loss')\n",
    "    ax2.legend()\n",
    "    ax2.grid(True, alpha=0.3)\n",
    "    \n",
    "    plt.tight_layout()\n",
    "    plt.show()\n",
    "\n",
    "plot_training_history(history)"
   ]
  },
  {
   "cell_type": "code",
   "execution_count": 13,
   "metadata": {},
   "outputs": [
    {
     "name": "stdout",
     "output_type": "stream",
     "text": [
      "\u001b[1m268/268\u001b[0m \u001b[32m━━━━━━━━━━━━━━━━━━━━\u001b[0m\u001b[37m\u001b[0m \u001b[1m104s\u001b[0m 383ms/step\n",
      "\n",
      "=== DETAILED CLASSIFICATION REPORT ===\n",
      "              precision    recall  f1-score   support\n",
      "\n",
      "           1       1.00      1.00      1.00       240\n",
      "           2       1.00      1.00      1.00       240\n",
      "           3       1.00      1.00      1.00       240\n",
      "           4       1.00      1.00      1.00       240\n",
      "           5       1.00      1.00      1.00       240\n",
      "           6       1.00      1.00      1.00       240\n",
      "           7       1.00      1.00      1.00       240\n",
      "           8       1.00      1.00      1.00       240\n",
      "           9       1.00      1.00      1.00       240\n",
      "           A       1.00      1.00      1.00       240\n",
      "           B       1.00      1.00      1.00       240\n",
      "           C       1.00      1.00      1.00       289\n",
      "           D       1.00      1.00      1.00       240\n",
      "           E       1.00      1.00      1.00       240\n",
      "           F       1.00      1.00      1.00       240\n",
      "           G       1.00      1.00      1.00       240\n",
      "           H       1.00      1.00      1.00       240\n",
      "           I       1.00      1.00      1.00       276\n",
      "           J       1.00      1.00      1.00       240\n",
      "           K       1.00      1.00      1.00       240\n",
      "           L       1.00      1.00      1.00       240\n",
      "           M       1.00      1.00      1.00       240\n",
      "           N       1.00      1.00      1.00       240\n",
      "           O       1.00      1.00      1.00       286\n",
      "           P       1.00      1.00      1.00       240\n",
      "           Q       1.00      1.00      1.00       240\n",
      "           R       1.00      1.00      1.00       240\n",
      "           S       1.00      1.00      1.00       240\n",
      "           T       1.00      1.00      1.00       240\n",
      "           U       1.00      1.00      1.00       240\n",
      "           V       1.00      1.00      1.00       258\n",
      "           W       1.00      1.00      1.00       240\n",
      "           X       1.00      1.00      1.00       240\n",
      "           Y       1.00      1.00      1.00       240\n",
      "           Z       1.00      1.00      1.00       240\n",
      "\n",
      "    accuracy                           1.00      8549\n",
      "   macro avg       1.00      1.00      1.00      8549\n",
      "weighted avg       1.00      1.00      1.00      8549\n",
      "\n"
     ]
    }
   ],
   "source": [
    "# Classification Report\n",
    "y_pred = model.predict(X_test)\n",
    "y_test_labels = label_binarizer.inverse_transform(y_test)\n",
    "y_pred_labels = label_binarizer.inverse_transform(y_pred)\n",
    "\n",
    "print(\"\\n=== DETAILED CLASSIFICATION REPORT ===\")\n",
    "print(classification_report(y_test_labels, y_pred_labels))"
   ]
  },
  {
   "cell_type": "code",
   "execution_count": 14,
   "metadata": {},
   "outputs": [
    {
     "name": "stderr",
     "output_type": "stream",
     "text": [
      "WARNING:absl:You are saving your model as an HDF5 file via `model.save()` or `keras.saving.save_model(model)`. This file format is considered legacy. We recommend using instead the native Keras format, e.g. `model.save('my_model.keras')` or `keras.saving.save_model(model, 'my_model.keras')`. \n"
     ]
    },
    {
     "name": "stdout",
     "output_type": "stream",
     "text": [
      "\n",
      "✅ Model saved\n"
     ]
    }
   ],
   "source": [
    "# Save the improved model\n",
    "model.save(\"Mobilenetv2_ISL_model.h5\")\n",
    "print(\"\\n✅ Model saved\")"
   ]
  },
  {
   "cell_type": "markdown",
   "metadata": {},
   "source": [
    "## Summary of Improvements\n",
    "\n",
    "### What we changed:\n",
    "1. **Input Size**: Increased from 64x64 to 224x224 for better feature extraction\n",
    "2. **Data Splitting**: Proper train/val/test split (64%/16%/20%)\n",
    "3. **Regularization**: Added dropout (0.3, 0.5) and L2 regularization\n",
    "4. **Fine-tuning**: Instead of freezing all layers, fine-tune top layers\n",
    "5. **Callbacks**: Early stopping and learning rate scheduling\n",
    "6. **Reduced Augmentation**: Less aggressive data augmentation\n",
    "7. **Lower Learning Rate**: 0.0001 for stable fine-tuning\n",
    "\n",
    "### Expected improvements:\n",
    "- **Better accuracy**: 224x224 images provide more detail for recognition\n",
    "- **Better generalization**: Smaller gap between train/val accuracy\n",
    "- **More stable training**: Smoother loss curves\n",
    "- **Realistic performance**: Test accuracy closer to validation accuracy\n",
    "- **Prevented overfitting**: Training stops before memorization occurs\n",
    "\n",
    "### Why 224x224 is better:\n",
    "1. **MobileNetV2 optimization**: Originally designed for 224x224 images\n",
    "2. **Better feature extraction**: Preserves more image detail\n",
    "3. **Standard practice**: Industry standard for computer vision models\n",
    "4. **Pre-trained weights**: Fully compatible with ImageNet pre-training\n",
    "\n",
    "### Additional techniques to try:\n",
    "1. **Cross-validation**: K-fold validation for more robust evaluation\n",
    "2. **Ensemble methods**: Combine multiple models\n",
    "3. **Different architectures**: EfficientNet, ResNet50\n",
    "4. **More data**: Collect more diverse samples\n",
    "5. **Progressive resizing**: Start small, gradually increase image size"
   ]
  },
  {
   "cell_type": "code",
   "execution_count": 15,
   "metadata": {},
   "outputs": [
    {
     "name": "stdout",
     "output_type": "stream",
     "text": [
      "The model does not seem to be overfitting.\n"
     ]
    }
   ],
   "source": [
    "# Check for overfitting by comparing training and validation loss/accuracy\n",
    "train_loss = history.history['loss']\n",
    "val_loss = history.history['val_loss']\n",
    "train_acc = history.history['accuracy']\n",
    "val_acc = history.history['val_accuracy']\n",
    "\n",
    "if val_loss[-1] > train_loss[-1] and val_acc[-1] < train_acc[-1]:\n",
    "    print(\"The model might be overfitting. Consider using regularization techniques or early stopping.\")\n",
    "else:\n",
    "    print(\"The model does not seem to be overfitting.\")"
   ]
  }
 ],
 "metadata": {
  "kernelspec": {
   "display_name": "Python 3",
   "language": "python",
   "name": "python3"
  },
  "language_info": {
   "codemirror_mode": {
    "name": "ipython",
    "version": 3
   },
   "file_extension": ".py",
   "mimetype": "text/x-python",
   "name": "python",
   "nbconvert_exporter": "python",
   "pygments_lexer": "ipython3",
   "version": "3.12.9"
  }
 },
 "nbformat": 4,
 "nbformat_minor": 4
}
